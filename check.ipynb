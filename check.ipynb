{
 "metadata": {
  "language_info": {
   "codemirror_mode": {
    "name": "ipython",
    "version": 3
   },
   "file_extension": ".py",
   "mimetype": "text/x-python",
   "name": "python",
   "nbconvert_exporter": "python",
   "pygments_lexer": "ipython3",
   "version": "3.7.7-final"
  },
  "orig_nbformat": 2,
  "kernelspec": {
   "name": "python3",
   "display_name": "Python 3"
  }
 },
 "nbformat": 4,
 "nbformat_minor": 2,
 "cells": [
  {
   "cell_type": "code",
   "execution_count": 1,
   "metadata": {},
   "outputs": [],
   "source": [
    "import pandas as pd\n",
    "import requests"
   ]
  },
  {
   "cell_type": "code",
   "execution_count": 10,
   "metadata": {},
   "outputs": [
    {
     "output_type": "stream",
     "name": "stdout",
     "text": [
      "115 65\n"
     ]
    }
   ],
   "source": [
    "api = 'api/audienceType'\n",
    "r = requests.get('http://localhost:3000/' + api)\n",
    "df = pd.DataFrame.from_dict(r.json())\n",
    "print(len(df.index), len(df.vidId.unique()))"
   ]
  },
  {
   "cell_type": "code",
   "execution_count": 13,
   "metadata": {},
   "outputs": [
    {
     "output_type": "execute_result",
     "data": {
      "text/plain": [
       "           vidId    age                  playListTitle\n",
       "112  0bDbnwLsC2E  child  Barnet libraries for children\n",
       "62   0bDbnwLsC2E  child  Barnet libraries for children\n",
       "87   0bDbnwLsC2E  child  Barnet libraries for children\n",
       "70   6fO5M34OM4o  child  Barnet libraries for children\n",
       "45   6fO5M34OM4o  child  Barnet libraries for children\n",
       "..           ...    ...                            ...\n",
       "63   zPnyWgwatzs  child  Barnet libraries for children\n",
       "113  zPnyWgwatzs  child  Barnet libraries for children\n",
       "96   zj7TO-X10HM  child  Barnet libraries for children\n",
       "71   zj7TO-X10HM  child  Barnet libraries for children\n",
       "46   zj7TO-X10HM  child  Barnet libraries for children\n",
       "\n",
       "[75 rows x 3 columns]"
      ],
      "text/html": "<div>\n<style scoped>\n    .dataframe tbody tr th:only-of-type {\n        vertical-align: middle;\n    }\n\n    .dataframe tbody tr th {\n        vertical-align: top;\n    }\n\n    .dataframe thead th {\n        text-align: right;\n    }\n</style>\n<table border=\"1\" class=\"dataframe\">\n  <thead>\n    <tr style=\"text-align: right;\">\n      <th></th>\n      <th>vidId</th>\n      <th>age</th>\n      <th>playListTitle</th>\n    </tr>\n  </thead>\n  <tbody>\n    <tr>\n      <th>112</th>\n      <td>0bDbnwLsC2E</td>\n      <td>child</td>\n      <td>Barnet libraries for children</td>\n    </tr>\n    <tr>\n      <th>62</th>\n      <td>0bDbnwLsC2E</td>\n      <td>child</td>\n      <td>Barnet libraries for children</td>\n    </tr>\n    <tr>\n      <th>87</th>\n      <td>0bDbnwLsC2E</td>\n      <td>child</td>\n      <td>Barnet libraries for children</td>\n    </tr>\n    <tr>\n      <th>70</th>\n      <td>6fO5M34OM4o</td>\n      <td>child</td>\n      <td>Barnet libraries for children</td>\n    </tr>\n    <tr>\n      <th>45</th>\n      <td>6fO5M34OM4o</td>\n      <td>child</td>\n      <td>Barnet libraries for children</td>\n    </tr>\n    <tr>\n      <th>...</th>\n      <td>...</td>\n      <td>...</td>\n      <td>...</td>\n    </tr>\n    <tr>\n      <th>63</th>\n      <td>zPnyWgwatzs</td>\n      <td>child</td>\n      <td>Barnet libraries for children</td>\n    </tr>\n    <tr>\n      <th>113</th>\n      <td>zPnyWgwatzs</td>\n      <td>child</td>\n      <td>Barnet libraries for children</td>\n    </tr>\n    <tr>\n      <th>96</th>\n      <td>zj7TO-X10HM</td>\n      <td>child</td>\n      <td>Barnet libraries for children</td>\n    </tr>\n    <tr>\n      <th>71</th>\n      <td>zj7TO-X10HM</td>\n      <td>child</td>\n      <td>Barnet libraries for children</td>\n    </tr>\n    <tr>\n      <th>46</th>\n      <td>zj7TO-X10HM</td>\n      <td>child</td>\n      <td>Barnet libraries for children</td>\n    </tr>\n  </tbody>\n</table>\n<p>75 rows × 3 columns</p>\n</div>"
     },
     "metadata": {},
     "execution_count": 13
    }
   ],
   "source": [
    "df[df.duplicated(subset='vidId',keep=False)].sort_values('vidId')"
   ]
  }
 ]
}